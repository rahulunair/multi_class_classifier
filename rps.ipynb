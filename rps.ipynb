{
 "cells": [
  {
   "cell_type": "code",
   "execution_count": 1,
   "metadata": {},
   "outputs": [],
   "source": [
    "import fnmatch\n",
    "import os\n",
    "import random\n",
    "\n",
    "import matplotlib.pyplot as plt\n",
    "import numpy as np\n",
    "import pandas as pd\n",
    "import psutil\n",
    "import seaborn as sns\n",
    "import torch\n",
    "import torchsummary\n",
    "import torchvision\n",
    "from sklearn.metrics import classification_report, confusion_matrix\n",
    "from sklearn.model_selection import train_test_split\n",
    "from torch.utils.data import DataLoader\n",
    "from tqdm.notebook import tqdm\n",
    "\n",
    "sns.set_style(\"ticks\")"
   ]
  },
  {
   "cell_type": "code",
   "execution_count": 2,
   "metadata": {},
   "outputs": [],
   "source": [
    "import os\n",
    "os.environ[\"PYTORCH_CUDA_ALLOC_CONF\"] = \"max_split_size_mb:40\""
   ]
  },
  {
   "cell_type": "code",
   "execution_count": 3,
   "metadata": {},
   "outputs": [
    {
     "name": "stdout",
     "output_type": "stream",
     "text": [
      "using device: cuda\n",
      "setting seed: 5424\n",
      "num cores: 10\n"
     ]
    }
   ],
   "source": [
    "# set device and env vars\n",
    "\n",
    "device = torch.device(\"cuda\" if torch.cuda.is_available() else \"cpu\")\n",
    "print(f\"using device: {device}\")\n",
    "\n",
    "def seed_everything(seed: int=5424):\n",
    "    \"\"\"set random seed.\"\"\"\n",
    "    print(f\"setting seed: {seed}\")\n",
    "    np.random.seed(seed)\n",
    "    random.seed(seed)\n",
    "    os.environ[\"PYTHONHASHSEED\"] = str(seed)\n",
    "    torch.manual_seed(seed)\n",
    "    if torch.device != \"cpu\":\n",
    "        torch.cuda.manual_seed_all(seed)\n",
    "\n",
    "def set_env_vars():\n",
    "    \"\"\"set env vars for cpu.\"\"\"\n",
    "    num_pcores = psutil.cpu_count(logical=False)\n",
    "    print(f\"num cores: {num_pcores}\")\n",
    "    os.environ[\"OMP_NUM_THREADS\"] = str(num_pcores)\n",
    "    os.environ[\"KMP_AFFINITY\"] = \"granularity=fine,compact,1,0\"\n",
    "    os.environ[\"KMP_BLOCKTIME\"] = \"1\"\n",
    "    torch.set_num_interop_threads(1)\n",
    "    torch.set_num_threads(num_pcores)\n",
    "\n",
    "        \n",
    "seed_everything()\n",
    "set_env_vars()"
   ]
  },
  {
   "cell_type": "code",
   "execution_count": 4,
   "metadata": {},
   "outputs": [],
   "source": [
    "imgnet_stats = [[0.5, 0.5, 0.5], [0.5, 0.5, 0.5]]\n",
    "img_transforms = {\n",
    "    \"train\": torchvision.transforms.Compose([\n",
    "        torchvision.transforms.Resize((224, 224)),\n",
    "        torchvision.transforms.ToTensor(),\n",
    "        torchvision.transforms.Normalize(*imgnet_stats)\n",
    "    ]),\n",
    "    \"valid\": torchvision.transforms.Compose([\n",
    "        torchvision.transforms.Resize((224, 224)),\n",
    "        torchvision.transforms.ToTensor(),\n",
    "        torchvision.transforms.Normalize(*imgnet_stats)\n",
    "        ]),\n",
    "    \"test\": torchvision.transforms.Compose([\n",
    "        torchvision.transforms.Resize((224, 224)),\n",
    "        torchvision.transforms.ToTensor(),\n",
    "        torchvision.transforms.Normalize(*imgnet_stats)\n",
    "\n",
    "    ])\n",
    "}"
   ]
  },
  {
   "cell_type": "code",
   "execution_count": 5,
   "metadata": {},
   "outputs": [
    {
     "data": {
      "text/plain": [
       "{'paper': 0, 'rock': 1, 'scissors': 2}"
      ]
     },
     "execution_count": 5,
     "metadata": {},
     "output_type": "execute_result"
    }
   ],
   "source": [
    "# transform dataset\n",
    "TRAIN_DIR = \"./data/train/\"\n",
    "TEST_DIR = \"./data/test/\"\n",
    "\n",
    "dataset = torchvision.datasets.ImageFolder(TRAIN_DIR, transform=img_transforms[\"train\"])\n",
    "valid_dataset = torchvision.datasets.ImageFolder(TRAIN_DIR, transform=img_transforms[\"valid\"])\n",
    "test_dataset = torchvision.datasets.ImageFolder(TEST_DIR, transform=img_transforms[\"test\"])\n",
    "dataset.class_to_idx"
   ]
  },
  {
   "cell_type": "code",
   "execution_count": 6,
   "metadata": {},
   "outputs": [
    {
     "name": "stdout",
     "output_type": "stream",
     "text": [
      "{'paper': 840, 'rock': 840, 'scissors': 840}\n"
     ]
    }
   ],
   "source": [
    "def data_distribution(dataset=dataset, path:str=\"./data/train/\"):\n",
    "    \"\"\"show data distribtion of each class.\"\"\"\n",
    "    cls_count = dict.fromkeys(dataset.class_to_idx, 0)\n",
    "    for cls in cls_count.keys():\n",
    "        cls_count[cls] = len(fnmatch.filter(os.listdir(f\"{path}/{cls}\"), \"*.png\"))\n",
    "    return cls_count\n",
    "print(data_distribution(dataset))"
   ]
  },
  {
   "cell_type": "code",
   "execution_count": 7,
   "metadata": {},
   "outputs": [
    {
     "name": "stdout",
     "output_type": "stream",
     "text": [
      " train, valid, test sizes: (1764, 756, 372)\n"
     ]
    }
   ],
   "source": [
    "# create train & valid dataset\n",
    "dataset_len = len(dataset.targets)\n",
    "dataset_idx = [x for x in range(dataset_len)]\n",
    "train_idx, valid_idx = train_test_split(dataset_idx, test_size=0.3, stratify=dataset.targets, shuffle=True)\n",
    "train_dataset = torch.utils.data.Subset(dataset, train_idx)\n",
    "valid_dataset = torch.utils.data.Subset(valid_dataset, valid_idx)\n",
    "print(f\" train, valid, test sizes: {len(train_dataset), len(valid_dataset), len(test_dataset)}\")\n"
   ]
  },
  {
   "cell_type": "code",
   "execution_count": 8,
   "metadata": {},
   "outputs": [],
   "source": [
    "# create dataloaders from datasets\n",
    "\n",
    "train_dataloader = DataLoader(train_dataset, shuffle=True, batch_size=16, pin_memory=True)\n",
    "valid_dataloader = DataLoader(valid_dataset, batch_size=16, pin_memory=True)\n",
    "test_dataloader = DataLoader(test_dataset, batch_size=16, pin_memory=True)"
   ]
  },
  {
   "cell_type": "code",
   "execution_count": 9,
   "metadata": {},
   "outputs": [],
   "source": [
    "def get_class_dists(dataloader: DataLoader):\n",
    "    classes = {0:0, 1:0, 2:0}\n",
    "    for _, labels in dataloader:\n",
    "        for label in labels:\n",
    "            classes[label.item()] +=1\n",
    "    return classes\n",
    "\n",
    "        \n",
    "#print(f\"training data classes: {get_class_dists(train_dataloader)}\")\n",
    "#print(f\"valid data classes: {get_class_dists(valid_dataloader)}\")\n",
    "#print(f\"test data classes: {get_class_dists(test_dataloader)}\")"
   ]
  },
  {
   "cell_type": "code",
   "execution_count": 10,
   "metadata": {},
   "outputs": [],
   "source": [
    "torch.cuda.empty_cache()"
   ]
  },
  {
   "cell_type": "code",
   "execution_count": 11,
   "metadata": {},
   "outputs": [],
   "source": [
    "def show_data(dataloader, num_data=4):\n",
    "    \"\"\"show `num_data` of images and labels from dataloader.\"\"\"\n",
    "    batch = next(iter(train_dataloader))  # batch of with images, batch of labels\n",
    "    imgs, labels = batch[0][:num_data], batch[1][:num_data].tolist() # get num_data of images, labels\n",
    "    fig, axes = plt.subplots(1, num_data, figsize=(8, 4))\n",
    "    fig.suptitle(\"data with labels\")\n",
    "    for n in range(num_data):\n",
    "        axes[n].set_title(labels[n])\n",
    "        axes[n].imshow(torch.clamp(imgs[n], 0, 1).permute(1, 2, 0))\n"
   ]
  },
  {
   "cell_type": "code",
   "execution_count": 12,
   "metadata": {},
   "outputs": [
    {
     "data": {
      "image/png": "[encoded data removed]",
      "text/plain": [
       "<Figure size 576x288 with 4 Axes>"
      ]
     },
     "metadata": {},
     "output_type": "display_data"
    }
   ],
   "source": [
    "show_data(train_dataloader)"
   ]
  },
  {
   "cell_type": "code",
   "execution_count": 13,
   "metadata": {},
   "outputs": [],
   "source": [
    "# simple network\n",
    "\n",
    "class CNNClassifier(torch.nn.Module):\n",
    "    \n",
    "    def __init__(self):\n",
    "        super().__init__()\n",
    "        self.cn1 = self.conv_block(3, 256, 5)\n",
    "        self.cn2 = self. conv_block(256, 128)\n",
    "        self.cn3 = self.conv_block(128, 64)\n",
    "        self.cn4 = self.conv_block(64, 32)\n",
    "        self.fc1 = torch.nn.Linear(4608, 128)\n",
    "        self.fc2 = torch.nn.Linear(128, 3)\n",
    "\n",
    "    def forward(self, x):\n",
    "        x = self.cn1(x)\n",
    "        x = self.cn2(x)\n",
    "        x = self.cn3(x)\n",
    "        x = self.cn4(x)\n",
    "        x = torch.flatten(x, 1)\n",
    "        x = self.fc1(x)\n",
    "        return self.fc2(x)\n",
    "\n",
    "    def conv_block(self, in_channels, out_channels, kernel_size=3, stride=1):\n",
    "        return torch.nn.Sequential(\n",
    "             torch.nn.Conv2d(in_channels=in_channels, out_channels=out_channels,kernel_size=kernel_size, stride=stride),\n",
    "             torch.nn.BatchNorm2d(num_features=out_channels),\n",
    "             torch.nn.MaxPool2d(2, 2),\n",
    "             torch.nn.ReLU(),\n",
    "             torch.nn.Dropout2d(p=0.4)\n",
    "        )\n",
    "\n",
    "model = CNNClassifier()\n",
    "model = model.to(device)"
   ]
  },
  {
   "cell_type": "code",
   "execution_count": 14,
   "metadata": {},
   "outputs": [
    {
     "name": "stdout",
     "output_type": "stream",
     "text": [
      "----------------------------------------------------------------\n",
      "        Layer (type)               Output Shape         Param #\n",
      "================================================================\n",
      "            Conv2d-1        [-1, 256, 220, 220]          19,456\n",
      "       BatchNorm2d-2        [-1, 256, 220, 220]             512\n",
      "         MaxPool2d-3        [-1, 256, 110, 110]               0\n",
      "              ReLU-4        [-1, 256, 110, 110]               0\n",
      "         Dropout2d-5        [-1, 256, 110, 110]               0\n",
      "            Conv2d-6        [-1, 128, 108, 108]         295,040\n",
      "       BatchNorm2d-7        [-1, 128, 108, 108]             256\n",
      "         MaxPool2d-8          [-1, 128, 54, 54]               0\n",
      "              ReLU-9          [-1, 128, 54, 54]               0\n",
      "        Dropout2d-10          [-1, 128, 54, 54]               0\n",
      "           Conv2d-11           [-1, 64, 52, 52]          73,792\n",
      "      BatchNorm2d-12           [-1, 64, 52, 52]             128\n",
      "        MaxPool2d-13           [-1, 64, 26, 26]               0\n",
      "             ReLU-14           [-1, 64, 26, 26]               0\n",
      "        Dropout2d-15           [-1, 64, 26, 26]               0\n",
      "           Conv2d-16           [-1, 32, 24, 24]          18,464\n",
      "      BatchNorm2d-17           [-1, 32, 24, 24]              64\n",
      "        MaxPool2d-18           [-1, 32, 12, 12]               0\n",
      "             ReLU-19           [-1, 32, 12, 12]               0\n",
      "        Dropout2d-20           [-1, 32, 12, 12]               0\n",
      "           Linear-21                  [-1, 128]         589,952\n",
      "           Linear-22                    [-1, 3]             387\n",
      "================================================================\n",
      "Total params: 998,051\n",
      "Trainable params: 998,051\n",
      "Non-trainable params: 0\n",
      "----------------------------------------------------------------\n",
      "Input size (MB): 0.57\n",
      "Forward/backward pass size (MB): 295.30\n",
      "Params size (MB): 3.81\n",
      "Estimated Total Size (MB): 299.69\n",
      "----------------------------------------------------------------\n"
     ]
    }
   ],
   "source": [
    "torchsummary.summary(model, (3, 224, 224))"
   ]
  },
  {
   "cell_type": "code",
   "execution_count": 15,
   "metadata": {},
   "outputs": [],
   "source": [
    "criterion = torch.nn.CrossEntropyLoss()\n",
    "optimizer = torch.optim.Adam(model.parameters(), lr=0.001)"
   ]
  },
  {
   "cell_type": "code",
   "execution_count": 16,
   "metadata": {},
   "outputs": [],
   "source": [
    "@torch.no_grad()\n",
    "def accuracy(yhat, label):\n",
    "    \"\"\"accuracy of a batch\"\"\"\n",
    "    yhat = torch.log_softmax(yhat, dim=1)  # softmax of logit output\n",
    "    yhat = yhat.max(1)[1]  # get index of max values \n",
    "    acc = yhat.eq(label).sum() / len(yhat)\n",
    "    return torch.round(acc * 100)\n",
    "\n",
    "\n",
    "acc_metrics = {\n",
    "    \"train\": [],\n",
    "    \"val\": []\n",
    "}\n",
    "loss_metrics = {\n",
    "    \"train\": [],\n",
    "    \"val\": []\n",
    "}\n"
   ]
  },
  {
   "cell_type": "code",
   "execution_count": 17,
   "metadata": {},
   "outputs": [
    {
     "name": "stderr",
     "output_type": "stream",
     "text": [
      "tr loop: 100%|██████████| 111/111 [00:26<00:00,  4.24it/s]\n",
      "ev loop: 100%|██████████| 48/48 [00:04<00:00, 11.00it/s]\n"
     ]
    },
    {
     "name": "stdout",
     "output_type": "stream",
     "text": [
      "Epoch: [1]\n",
      "loss:\n",
      " training set: 0.9311171667063022 validation set: 0.08369877430959605 \n",
      "accuracy:\n",
      " training set: 77.33333333333333 validation set: 98.5 \n"
     ]
    },
    {
     "name": "stderr",
     "output_type": "stream",
     "text": [
      "tr loop: 100%|██████████| 111/111 [00:25<00:00,  4.37it/s]\n",
      "ev loop: 100%|██████████| 48/48 [00:04<00:00, 11.12it/s]\n"
     ]
    },
    {
     "name": "stdout",
     "output_type": "stream",
     "text": [
      "Epoch: [2]\n",
      "loss:\n",
      " training set: 0.11128152796614764 validation set: 0.024675644856567185 \n",
      "accuracy:\n",
      " training set: 97.009009009009 validation set: 99.5 \n"
     ]
    },
    {
     "name": "stderr",
     "output_type": "stream",
     "text": [
      "tr loop: 100%|██████████| 111/111 [00:25<00:00,  4.39it/s]\n",
      "ev loop: 100%|██████████| 48/48 [00:04<00:00, 11.16it/s]\n"
     ]
    },
    {
     "name": "stdout",
     "output_type": "stream",
     "text": [
      "Epoch: [3]\n",
      "loss:\n",
      " training set: 0.057685173272369175 validation set: 0.0044929832717267955 \n",
      "accuracy:\n",
      " training set: 98.43243243243244 validation set: 100.0 \n"
     ]
    },
    {
     "name": "stderr",
     "output_type": "stream",
     "text": [
      "tr loop: 100%|██████████| 111/111 [00:25<00:00,  4.39it/s]\n",
      "ev loop: 100%|██████████| 48/48 [00:04<00:00, 11.00it/s]\n"
     ]
    },
    {
     "name": "stdout",
     "output_type": "stream",
     "text": [
      "Epoch: [4]\n",
      "loss:\n",
      " training set: 0.016925717409944523 validation set: 0.0006046395834952515 \n",
      "accuracy:\n",
      " training set: 99.62162162162163 validation set: 100.0 \n"
     ]
    },
    {
     "name": "stderr",
     "output_type": "stream",
     "text": [
      "tr loop: 100%|██████████| 111/111 [00:25<00:00,  4.39it/s]\n",
      "ev loop: 100%|██████████| 48/48 [00:04<00:00, 11.18it/s]\n"
     ]
    },
    {
     "name": "stdout",
     "output_type": "stream",
     "text": [
      "Epoch: [5]\n",
      "loss:\n",
      " training set: 0.007069704485197157 validation set: 0.00015196587357972172 \n",
      "accuracy:\n",
      " training set: 99.89189189189189 validation set: 100.0 \n"
     ]
    },
    {
     "name": "stderr",
     "output_type": "stream",
     "text": [
      "tr loop: 100%|██████████| 111/111 [00:25<00:00,  4.40it/s]\n",
      "ev loop: 100%|██████████| 48/48 [00:04<00:00, 11.21it/s]\n"
     ]
    },
    {
     "name": "stdout",
     "output_type": "stream",
     "text": [
      "Epoch: [6]\n",
      "loss:\n",
      " training set: 0.006477259138403308 validation set: 0.0003136170322477483 \n",
      "accuracy:\n",
      " training set: 99.89189189189189 validation set: 100.0 \n"
     ]
    },
    {
     "name": "stderr",
     "output_type": "stream",
     "text": [
      "tr loop: 100%|██████████| 111/111 [00:25<00:00,  4.38it/s]\n",
      "ev loop: 100%|██████████| 48/48 [00:04<00:00, 11.08it/s]\n"
     ]
    },
    {
     "name": "stdout",
     "output_type": "stream",
     "text": [
      "Epoch: [7]\n",
      "loss:\n",
      " training set: 0.00807624064738185 validation set: 0.0014518479213639541 \n",
      "accuracy:\n",
      " training set: 99.67567567567568 validation set: 100.0 \n"
     ]
    },
    {
     "name": "stderr",
     "output_type": "stream",
     "text": [
      "tr loop: 100%|██████████| 111/111 [00:25<00:00,  4.36it/s]\n",
      "ev loop: 100%|██████████| 48/48 [00:04<00:00, 11.09it/s]\n"
     ]
    },
    {
     "name": "stdout",
     "output_type": "stream",
     "text": [
      "Epoch: [8]\n",
      "loss:\n",
      " training set: 0.08858089191950581 validation set: 0.067772912893588 \n",
      "accuracy:\n",
      " training set: 97.48648648648648 validation set: 97.85416666666667 \n"
     ]
    },
    {
     "name": "stderr",
     "output_type": "stream",
     "text": [
      "tr loop: 100%|██████████| 111/111 [00:25<00:00,  4.36it/s]\n",
      "ev loop: 100%|██████████| 48/48 [00:04<00:00, 11.09it/s]\n"
     ]
    },
    {
     "name": "stdout",
     "output_type": "stream",
     "text": [
      "Epoch: [9]\n",
      "loss:\n",
      " training set: 0.062476422776288364 validation set: 0.005743700435462055 \n",
      "accuracy:\n",
      " training set: 98.0 validation set: 99.625 \n"
     ]
    },
    {
     "name": "stderr",
     "output_type": "stream",
     "text": [
      "tr loop: 100%|██████████| 111/111 [00:25<00:00,  4.42it/s]\n",
      "ev loop: 100%|██████████| 48/48 [00:04<00:00, 11.21it/s]\n"
     ]
    },
    {
     "name": "stdout",
     "output_type": "stream",
     "text": [
      "Epoch: [10]\n",
      "loss:\n",
      " training set: 0.019838755245692986 validation set: 6.557982213273306e-05 \n",
      "accuracy:\n",
      " training set: 99.4054054054054 validation set: 100.0 \n"
     ]
    },
    {
     "name": "stderr",
     "output_type": "stream",
     "text": [
      "tr loop: 100%|██████████| 111/111 [00:25<00:00,  4.38it/s]\n",
      "ev loop: 100%|██████████| 48/48 [00:04<00:00, 11.09it/s]\n"
     ]
    },
    {
     "name": "stdout",
     "output_type": "stream",
     "text": [
      "Epoch: [11]\n",
      "loss:\n",
      " training set: 0.001687226723538656 validation set: 1.796487936500668e-05 \n",
      "accuracy:\n",
      " training set: 99.94594594594595 validation set: 100.0 \n"
     ]
    },
    {
     "name": "stderr",
     "output_type": "stream",
     "text": [
      "tr loop: 100%|██████████| 111/111 [00:25<00:00,  4.33it/s]\n",
      "ev loop: 100%|██████████| 48/48 [00:04<00:00, 11.11it/s]\n"
     ]
    },
    {
     "name": "stdout",
     "output_type": "stream",
     "text": [
      "Epoch: [12]\n",
      "loss:\n",
      " training set: 0.004599661435463403 validation set: 6.040015271994529e-05 \n",
      "accuracy:\n",
      " training set: 99.94594594594595 validation set: 100.0 \n"
     ]
    },
    {
     "name": "stderr",
     "output_type": "stream",
     "text": [
      "tr loop: 100%|██████████| 111/111 [00:25<00:00,  4.28it/s]\n",
      "ev loop: 100%|██████████| 48/48 [00:04<00:00, 11.04it/s]\n"
     ]
    },
    {
     "name": "stdout",
     "output_type": "stream",
     "text": [
      "Epoch: [13]\n",
      "loss:\n",
      " training set: 0.00562448454116043 validation set: 3.223823531091815e-05 \n",
      "accuracy:\n",
      " training set: 99.89189189189189 validation set: 100.0 \n"
     ]
    },
    {
     "name": "stderr",
     "output_type": "stream",
     "text": [
      "tr loop: 100%|██████████| 111/111 [00:25<00:00,  4.35it/s]\n",
      "ev loop: 100%|██████████| 48/48 [00:04<00:00, 11.13it/s]\n"
     ]
    },
    {
     "name": "stdout",
     "output_type": "stream",
     "text": [
      "Epoch: [14]\n",
      "loss:\n",
      " training set: 0.00596415744815133 validation set: 7.427963984532604e-05 \n",
      "accuracy:\n",
      " training set: 99.78378378378379 validation set: 100.0 \n"
     ]
    },
    {
     "name": "stderr",
     "output_type": "stream",
     "text": [
      "tr loop: 100%|██████████| 111/111 [00:25<00:00,  4.29it/s]\n",
      "ev loop: 100%|██████████| 48/48 [00:04<00:00, 10.96it/s]\n"
     ]
    },
    {
     "name": "stdout",
     "output_type": "stream",
     "text": [
      "Epoch: [15]\n",
      "loss:\n",
      " training set: 0.014599211688639079 validation set: 8.148467071518913e-05 \n",
      "accuracy:\n",
      " training set: 99.67567567567568 validation set: 100.0 \n"
     ]
    },
    {
     "name": "stderr",
     "output_type": "stream",
     "text": [
      "tr loop: 100%|██████████| 111/111 [00:26<00:00,  4.26it/s]\n",
      "ev loop: 100%|██████████| 48/48 [00:04<00:00, 10.75it/s]\n"
     ]
    },
    {
     "name": "stdout",
     "output_type": "stream",
     "text": [
      "Epoch: [16]\n",
      "loss:\n",
      " training set: 0.050788532321573994 validation set: 0.09128415414036706 \n",
      "accuracy:\n",
      " training set: 99.28828828828829 validation set: 97.35416666666667 \n"
     ]
    },
    {
     "name": "stderr",
     "output_type": "stream",
     "text": [
      "tr loop: 100%|██████████| 111/111 [00:25<00:00,  4.29it/s]\n",
      "ev loop: 100%|██████████| 48/48 [00:04<00:00, 10.94it/s]\n"
     ]
    },
    {
     "name": "stdout",
     "output_type": "stream",
     "text": [
      "Epoch: [17]\n",
      "loss:\n",
      " training set: 0.1362255221349249 validation set: 0.00020529950590090587 \n",
      "accuracy:\n",
      " training set: 97.50450450450451 validation set: 100.0 \n"
     ]
    },
    {
     "name": "stderr",
     "output_type": "stream",
     "text": [
      "tr loop: 100%|██████████| 111/111 [00:26<00:00,  4.27it/s]\n",
      "ev loop: 100%|██████████| 48/48 [00:04<00:00, 10.98it/s]\n"
     ]
    },
    {
     "name": "stdout",
     "output_type": "stream",
     "text": [
      "Epoch: [18]\n",
      "loss:\n",
      " training set: 0.019831087166807804 validation set: 0.009775127578877588 \n",
      "accuracy:\n",
      " training set: 99.4054054054054 validation set: 99.625 \n"
     ]
    },
    {
     "name": "stderr",
     "output_type": "stream",
     "text": [
      "tr loop: 100%|██████████| 111/111 [00:25<00:00,  4.29it/s]\n",
      "ev loop: 100%|██████████| 48/48 [00:04<00:00, 10.95it/s]\n"
     ]
    },
    {
     "name": "stdout",
     "output_type": "stream",
     "text": [
      "Epoch: [19]\n",
      "loss:\n",
      " training set: 0.008041741245937368 validation set: 1.548583030676805e-05 \n",
      "accuracy:\n",
      " training set: 99.78378378378379 validation set: 100.0 \n"
     ]
    },
    {
     "name": "stderr",
     "output_type": "stream",
     "text": [
      "tr loop: 100%|██████████| 111/111 [00:25<00:00,  4.28it/s]\n",
      "ev loop: 100%|██████████| 48/48 [00:04<00:00, 10.96it/s]\n"
     ]
    },
    {
     "name": "stdout",
     "output_type": "stream",
     "text": [
      "Epoch: [20]\n",
      "loss:\n",
      " training set: 0.01554222741408561 validation set: 0.00037210996256876555 \n",
      "accuracy:\n",
      " training set: 99.56756756756756 validation set: 100.0 \n"
     ]
    },
    {
     "name": "stderr",
     "output_type": "stream",
     "text": [
      "tr loop: 100%|██████████| 111/111 [00:25<00:00,  4.31it/s]\n",
      "ev loop: 100%|██████████| 48/48 [00:04<00:00, 11.14it/s]\n"
     ]
    },
    {
     "name": "stdout",
     "output_type": "stream",
     "text": [
      "Epoch: [21]\n",
      "loss:\n",
      " training set: 0.019674636551870864 validation set: 0.00017542106338502839 \n",
      "accuracy:\n",
      " training set: 99.67567567567568 validation set: 100.0 \n"
     ]
    },
    {
     "name": "stderr",
     "output_type": "stream",
     "text": [
      "tr loop: 100%|██████████| 111/111 [00:25<00:00,  4.37it/s]\n",
      "ev loop: 100%|██████████| 48/48 [00:04<00:00, 11.14it/s]\n"
     ]
    },
    {
     "name": "stdout",
     "output_type": "stream",
     "text": [
      "Epoch: [22]\n",
      "loss:\n",
      " training set: 0.009586121795274322 validation set: 6.645840185383796e-06 \n",
      "accuracy:\n",
      " training set: 99.67567567567568 validation set: 100.0 \n"
     ]
    },
    {
     "name": "stderr",
     "output_type": "stream",
     "text": [
      "tr loop: 100%|██████████| 111/111 [00:25<00:00,  4.37it/s]\n",
      "ev loop: 100%|██████████| 48/48 [00:04<00:00, 11.09it/s]\n"
     ]
    },
    {
     "name": "stdout",
     "output_type": "stream",
     "text": [
      "Epoch: [23]\n",
      "loss:\n",
      " training set: 0.0013629582643439149 validation set: 2.924028176790975e-06 \n",
      "accuracy:\n",
      " training set: 100.0 validation set: 100.0 \n"
     ]
    },
    {
     "name": "stderr",
     "output_type": "stream",
     "text": [
      "tr loop: 100%|██████████| 111/111 [00:25<00:00,  4.37it/s]\n",
      "ev loop: 100%|██████████| 48/48 [00:04<00:00, 11.12it/s]\n"
     ]
    },
    {
     "name": "stdout",
     "output_type": "stream",
     "text": [
      "Epoch: [24]\n",
      "loss:\n",
      " training set: 0.009278890038974865 validation set: 2.405974213574395e-05 \n",
      "accuracy:\n",
      " training set: 99.72972972972973 validation set: 100.0 \n"
     ]
    },
    {
     "name": "stderr",
     "output_type": "stream",
     "text": [
      "tr loop: 100%|██████████| 111/111 [00:25<00:00,  4.37it/s]\n",
      "ev loop: 100%|██████████| 48/48 [00:04<00:00, 11.08it/s]"
     ]
    },
    {
     "name": "stdout",
     "output_type": "stream",
     "text": [
      "Epoch: [25]\n",
      "loss:\n",
      " training set: 0.0021775410696248153 validation set: 3.6853496011475992e-06 \n",
      "accuracy:\n",
      " training set: 99.89189189189189 validation set: 100.0 \n"
     ]
    },
    {
     "name": "stderr",
     "output_type": "stream",
     "text": [
      "\n"
     ]
    }
   ],
   "source": [
    "MAX_EPOCH=25\n",
    "\n",
    "from tqdm import tqdm \n",
    "\n",
    "for epoch in range(MAX_EPOCH):\n",
    "    torch.cuda.empty_cache()\n",
    "    model.train()\n",
    "    t_epoch_loss, t_epoch_acc = 0.0, 0.0\n",
    "    for inputs, labels in tqdm(train_dataloader, desc=\"tr loop\"):\n",
    "        inputs, labels = inputs.to(device), labels.to(device)\n",
    "        optimizer.zero_grad() # zero gradients\n",
    "        outputs = model(inputs) # call model\n",
    "        acc = accuracy(outputs, labels)\n",
    "        loss = criterion(outputs, labels) # calculate loss\n",
    "        loss.backward() # backward pass\n",
    "        optimizer.step() # step optimizer\n",
    "        t_epoch_loss += loss.item()  # loss per batch\n",
    "        t_epoch_acc += acc.item()  # accuracy per batch\n",
    "    with torch.no_grad():\n",
    "        model.eval()\n",
    "        v_epoch_loss, v_epoch_acc = 0.0, 0.0\n",
    "        for inputs, labels in tqdm(valid_dataloader, desc=\"ev loop\"):\n",
    "            inputs, labels = inputs.to(device), labels.to(device)\n",
    "            outputs = model(inputs)\n",
    "            loss = criterion(outputs, labels)\n",
    "            acc = accuracy(outputs, labels)\n",
    "            v_epoch_loss += loss.item()\n",
    "            v_epoch_acc += acc.item()\n",
    "    loss_metrics[\"train\"].append(t_epoch_loss / len(train_dataloader))\n",
    "    loss_metrics[\"val\"].append(v_epoch_loss / len(valid_dataloader))\n",
    "    acc_metrics[\"train\"].append(t_epoch_acc / len(train_dataloader))\n",
    "    acc_metrics[\"val\"].append(v_epoch_acc / len(valid_dataloader)) \n",
    "    print(f\"Epoch: [{epoch + 1}]\")\n",
    "    print(f\"loss:\\n training set: {loss_metrics['train'][-1]} validation set: {loss_metrics['val'][-1]} \")\n",
    "    print(f\"accuracy:\\n training set: {acc_metrics['train'][-1]} validation set: {acc_metrics['val'][-1]} \")\n"
   ]
  },
  {
   "cell_type": "code",
   "execution_count": 18,
   "metadata": {},
   "outputs": [],
   "source": [
    "# tidy dataframes for loss and acc\n",
    "train_val_loss =  pd.DataFrame.from_dict(loss_metrics).reset_index().melt(id_vars=[\"index\"]).rename(columns={\"index\": \"epochs\"})\n",
    "train_val_acc = pd.DataFrame.from_dict(acc_metrics).reset_index().melt(id_vars=(\"index\")).rename(columns={\"index\": \"epochs\"})"
   ]
  },
  {
   "cell_type": "code",
   "execution_count": 19,
   "metadata": {},
   "outputs": [
    {
     "data": {
      "text/plain": [
       "Text(0.5, 1.0, 'Train / val loss per epoch')"
      ]
     },
     "execution_count": 19,
     "metadata": {},
     "output_type": "execute_result"
    },
    {
     "data": {
      "image/png": "[encoded data removed]",
      "text/plain": [
       "<Figure size 576x288 with 2 Axes>"
      ]
     },
     "metadata": {},
     "output_type": "display_data"
    }
   ],
   "source": [
    "# metrics curves (loss and acc)\n",
    "fig, axes = plt.subplots(nrows=1, ncols=2, figsize=(8, 4))\n",
    "sns.lineplot(data=train_val_acc, x=\"epochs\", y=\"value\", hue=\"variable\", ax=axes[0]).set_title(\"Train / val accuracy per epoch\")\n",
    "sns.lineplot(data=train_val_loss, x=\"epochs\", y=\"value\", hue=\"variable\", ax=axes[1]).set_title(\"Train / val loss per epoch\")"
   ]
  },
  {
   "cell_type": "code",
   "execution_count": 20,
   "metadata": {},
   "outputs": [
    {
     "name": "stdout",
     "output_type": "stream",
     "text": [
      "avg acc for test data(not seen by model): 82.75 %\n"
     ]
    }
   ],
   "source": [
    "# average accuracy for test data not seen by model\n",
    "accu = []\n",
    "yhat_ls = []\n",
    "labels_ls = []\n",
    "with torch.no_grad():\n",
    "    for inputs, labels in test_dataloader:\n",
    "        inputs, labels = inputs.to(device), labels.to(device)\n",
    "        outputs = model(inputs)\n",
    "        yhat_ls.append(torch.max(outputs, dim=1)[1].cpu().numpy())\n",
    "        labels_ls.append(labels.cpu().numpy())\n",
    "        acc = accuracy(outputs, labels).item()\n",
    "        accu.append(acc)\n",
    "    print(f\"avg acc for test data (not seen by model): {np.mean(accu)} %\")"
   ]
  },
  {
   "cell_type": "code",
   "execution_count": 21,
   "metadata": {},
   "outputs": [],
   "source": [
    "# flatten yhats and labels\n",
    "yhat_ls = [i for arr in yhat_ls for i in arr]\n",
    "labels_ls = [i for arr in labels_ls for i in arr]"
   ]
  },
  {
   "cell_type": "code",
   "execution_count": 22,
   "metadata": {},
   "outputs": [
    {
     "name": "stdout",
     "output_type": "stream",
     "text": [
      "              precision    recall  f1-score   support\n",
      "\n",
      "           0       0.74      0.87      0.80       124\n",
      "           1       0.89      0.87      0.88       124\n",
      "           2       0.86      0.73      0.79       124\n",
      "\n",
      "    accuracy                           0.82       372\n",
      "   macro avg       0.83      0.82      0.82       372\n",
      "weighted avg       0.83      0.82      0.82       372\n",
      "\n"
     ]
    }
   ],
   "source": [
    "print(classification_report(labels_ls, yhat_ls))"
   ]
  },
  {
   "cell_type": "code",
   "execution_count": 23,
   "metadata": {},
   "outputs": [],
   "source": [
    "confusion_matrix(labels_ls, yhat_ls)\n",
    "idx2cls = {v:k for k, v in dataset.class_to_idx.items()}\n",
    "conf_mx = pd.DataFrame(confusion_matrix(labels_ls, yhat_ls)).rename(columns=idx2cls, index=idx2cls)"
   ]
  },
  {
   "cell_type": "code",
   "execution_count": 24,
   "metadata": {},
   "outputs": [
    {
     "data": {
      "text/plain": [
       "<AxesSubplot:>"
      ]
     },
     "execution_count": 24,
     "metadata": {},
     "output_type": "execute_result"
    },
    {
     "data": {
      "image/png": "[encoded data removed]",
      "text/plain": [
       "<Figure size 864x432 with 2 Axes>"
      ]
     },
     "metadata": {},
     "output_type": "display_data"
    }
   ],
   "source": [
    "_, ax = plt.subplots(figsize=(12, 6))\n",
    "sns.heatmap(conf_mx, annot=True, ax=ax)"
   ]
  }
 ],
 "metadata": {
  "kernelspec": {
   "display_name": "Python 3.9.12 ('pyt-gpu')",
   "language": "python",
   "name": "python3"
  },
  "language_info": {
   "codemirror_mode": {
    "name": "ipython",
    "version": 3
   },
   "file_extension": ".py",
   "mimetype": "text/x-python",
   "name": "python",
   "nbconvert_exporter": "python",
   "pygments_lexer": "ipython3",
   "version": "3.9.12"
  },
  "orig_nbformat": 4,
  "vscode": {
   "interpreter": {
    "hash": "1733b34285ed74833bcb8e1b7a940727029b0435f34e09e572d05f37d583a466"
   }
  }
 },
 "nbformat": 4,
 "nbformat_minor": 2
}
